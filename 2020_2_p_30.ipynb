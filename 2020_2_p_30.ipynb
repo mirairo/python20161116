{
  "nbformat": 4,
  "nbformat_minor": 0,
  "metadata": {
    "colab": {
      "name": "2020-2-p.30.ipynb",
      "provenance": [],
      "collapsed_sections": [],
      "authorship_tag": "ABX9TyONf6+cqQzzHiLsXQR3hlTy",
      "include_colab_link": true
    },
    "kernelspec": {
      "name": "python3",
      "display_name": "Python 3"
    }
  },
  "cells": [
    {
      "cell_type": "markdown",
      "metadata": {
        "id": "view-in-github",
        "colab_type": "text"
      },
      "source": [
        "<a href=\"https://colab.research.google.com/github/mirairo/python20161116/blob/master/2020_2_p_30.ipynb\" target=\"_parent\"><img src=\"https://colab.research.google.com/assets/colab-badge.svg\" alt=\"Open In Colab\"/></a>"
      ]
    },
    {
      "cell_type": "markdown",
      "metadata": {
        "id": "7Xn_mKx4DBxA"
      },
      "source": [
        "# 파이썬 판다스의 데이터프레임 생성하기"
      ]
    },
    {
      "cell_type": "code",
      "metadata": {
        "id": "F-0b2q7X2V1X"
      },
      "source": [
        "import pandas as pd"
      ],
      "execution_count": 1,
      "outputs": []
    },
    {
      "cell_type": "code",
      "metadata": {
        "id": "wRYjFykP2rWZ",
        "outputId": "8e09aeda-9433-42db-c683-275ad549c45e",
        "colab": {
          "base_uri": "https://localhost:8080/",
          "height": 204
        }
      },
      "source": [
        "# 판다스의 데이터프레임을 생성\n",
        "names = ['Bob','Jessica', 'Mary', 'John', 'Mel']\n",
        "births = [968, 155, 77, 578, 973]\n",
        "custom = [1, 5, 25, 13, 23232]\n",
        "\n",
        "BabyDataSet = list(zip(names, births))\n",
        "df = pd.DataFrame(data = BabyDataSet, columns=['Names', 'Births'])\n",
        "\n",
        "# 데이터프레임의 상단 부문을 출력\n",
        "df.head()"
      ],
      "execution_count": 2,
      "outputs": [
        {
          "output_type": "execute_result",
          "data": {
            "text/html": [
              "<div>\n",
              "<style scoped>\n",
              "    .dataframe tbody tr th:only-of-type {\n",
              "        vertical-align: middle;\n",
              "    }\n",
              "\n",
              "    .dataframe tbody tr th {\n",
              "        vertical-align: top;\n",
              "    }\n",
              "\n",
              "    .dataframe thead th {\n",
              "        text-align: right;\n",
              "    }\n",
              "</style>\n",
              "<table border=\"1\" class=\"dataframe\">\n",
              "  <thead>\n",
              "    <tr style=\"text-align: right;\">\n",
              "      <th></th>\n",
              "      <th>Names</th>\n",
              "      <th>Births</th>\n",
              "    </tr>\n",
              "  </thead>\n",
              "  <tbody>\n",
              "    <tr>\n",
              "      <th>0</th>\n",
              "      <td>Bob</td>\n",
              "      <td>968</td>\n",
              "    </tr>\n",
              "    <tr>\n",
              "      <th>1</th>\n",
              "      <td>Jessica</td>\n",
              "      <td>155</td>\n",
              "    </tr>\n",
              "    <tr>\n",
              "      <th>2</th>\n",
              "      <td>Mary</td>\n",
              "      <td>77</td>\n",
              "    </tr>\n",
              "    <tr>\n",
              "      <th>3</th>\n",
              "      <td>John</td>\n",
              "      <td>578</td>\n",
              "    </tr>\n",
              "    <tr>\n",
              "      <th>4</th>\n",
              "      <td>Mel</td>\n",
              "      <td>973</td>\n",
              "    </tr>\n",
              "  </tbody>\n",
              "</table>\n",
              "</div>"
            ],
            "text/plain": [
              "     Names  Births\n",
              "0      Bob     968\n",
              "1  Jessica     155\n",
              "2     Mary      77\n",
              "3     John     578\n",
              "4      Mel     973"
            ]
          },
          "metadata": {
            "tags": []
          },
          "execution_count": 2
        }
      ]
    },
    {
      "cell_type": "code",
      "metadata": {
        "id": "DOE9dVCq4Kgg",
        "outputId": "feb8ae9e-a03e-4232-936b-7b93f4366db3",
        "colab": {
          "base_uri": "https://localhost:8080/",
          "height": 0
        }
      },
      "source": [
        "df.dtypes"
      ],
      "execution_count": 3,
      "outputs": [
        {
          "output_type": "execute_result",
          "data": {
            "text/plain": [
              "Names     object\n",
              "Births     int64\n",
              "dtype: object"
            ]
          },
          "metadata": {
            "tags": []
          },
          "execution_count": 3
        }
      ]
    },
    {
      "cell_type": "code",
      "metadata": {
        "id": "3igdi0Bh4Z9_",
        "outputId": "382290c1-1d09-4d33-8da4-6dfcb77f6de0",
        "colab": {
          "base_uri": "https://localhost:8080/",
          "height": 0
        }
      },
      "source": [
        "df.index"
      ],
      "execution_count": 4,
      "outputs": [
        {
          "output_type": "execute_result",
          "data": {
            "text/plain": [
              "RangeIndex(start=0, stop=5, step=1)"
            ]
          },
          "metadata": {
            "tags": []
          },
          "execution_count": 4
        }
      ]
    },
    {
      "cell_type": "code",
      "metadata": {
        "id": "gV7_G-Hu4lul",
        "outputId": "da9d342b-79ed-4e00-ed84-61e02919812a",
        "colab": {
          "base_uri": "https://localhost:8080/",
          "height": 0
        }
      },
      "source": [
        "df.columns"
      ],
      "execution_count": 5,
      "outputs": [
        {
          "output_type": "execute_result",
          "data": {
            "text/plain": [
              "Index(['Names', 'Births'], dtype='object')"
            ]
          },
          "metadata": {
            "tags": []
          },
          "execution_count": 5
        }
      ]
    },
    {
      "cell_type": "code",
      "metadata": {
        "id": "O3_NV6E140im",
        "outputId": "c9f570f7-7b70-4a65-e273-a0d48854f20c",
        "colab": {
          "base_uri": "https://localhost:8080/",
          "height": 0
        }
      },
      "source": [
        "df['Names']"
      ],
      "execution_count": 6,
      "outputs": [
        {
          "output_type": "execute_result",
          "data": {
            "text/plain": [
              "0        Bob\n",
              "1    Jessica\n",
              "2       Mary\n",
              "3       John\n",
              "4        Mel\n",
              "Name: Names, dtype: object"
            ]
          },
          "metadata": {
            "tags": []
          },
          "execution_count": 6
        }
      ]
    },
    {
      "cell_type": "code",
      "metadata": {
        "id": "IYpiR0c85BZ0",
        "outputId": "6041b590-a586-4ab5-bbc8-b0a955dc17b3",
        "colab": {
          "base_uri": "https://localhost:8080/",
          "height": 142
        }
      },
      "source": [
        "df[0:3]"
      ],
      "execution_count": 7,
      "outputs": [
        {
          "output_type": "execute_result",
          "data": {
            "text/html": [
              "<div>\n",
              "<style scoped>\n",
              "    .dataframe tbody tr th:only-of-type {\n",
              "        vertical-align: middle;\n",
              "    }\n",
              "\n",
              "    .dataframe tbody tr th {\n",
              "        vertical-align: top;\n",
              "    }\n",
              "\n",
              "    .dataframe thead th {\n",
              "        text-align: right;\n",
              "    }\n",
              "</style>\n",
              "<table border=\"1\" class=\"dataframe\">\n",
              "  <thead>\n",
              "    <tr style=\"text-align: right;\">\n",
              "      <th></th>\n",
              "      <th>Names</th>\n",
              "      <th>Births</th>\n",
              "    </tr>\n",
              "  </thead>\n",
              "  <tbody>\n",
              "    <tr>\n",
              "      <th>0</th>\n",
              "      <td>Bob</td>\n",
              "      <td>968</td>\n",
              "    </tr>\n",
              "    <tr>\n",
              "      <th>1</th>\n",
              "      <td>Jessica</td>\n",
              "      <td>155</td>\n",
              "    </tr>\n",
              "    <tr>\n",
              "      <th>2</th>\n",
              "      <td>Mary</td>\n",
              "      <td>77</td>\n",
              "    </tr>\n",
              "  </tbody>\n",
              "</table>\n",
              "</div>"
            ],
            "text/plain": [
              "     Names  Births\n",
              "0      Bob     968\n",
              "1  Jessica     155\n",
              "2     Mary      77"
            ]
          },
          "metadata": {
            "tags": []
          },
          "execution_count": 7
        }
      ]
    },
    {
      "cell_type": "code",
      "metadata": {
        "id": "_-tO4kiX5Ue_",
        "outputId": "ade8877a-e9e6-48f8-8346-d54631a203b3",
        "colab": {
          "base_uri": "https://localhost:8080/",
          "height": 173
        }
      },
      "source": [
        "df[df['Births']> 100]"
      ],
      "execution_count": 8,
      "outputs": [
        {
          "output_type": "execute_result",
          "data": {
            "text/html": [
              "<div>\n",
              "<style scoped>\n",
              "    .dataframe tbody tr th:only-of-type {\n",
              "        vertical-align: middle;\n",
              "    }\n",
              "\n",
              "    .dataframe tbody tr th {\n",
              "        vertical-align: top;\n",
              "    }\n",
              "\n",
              "    .dataframe thead th {\n",
              "        text-align: right;\n",
              "    }\n",
              "</style>\n",
              "<table border=\"1\" class=\"dataframe\">\n",
              "  <thead>\n",
              "    <tr style=\"text-align: right;\">\n",
              "      <th></th>\n",
              "      <th>Names</th>\n",
              "      <th>Births</th>\n",
              "    </tr>\n",
              "  </thead>\n",
              "  <tbody>\n",
              "    <tr>\n",
              "      <th>0</th>\n",
              "      <td>Bob</td>\n",
              "      <td>968</td>\n",
              "    </tr>\n",
              "    <tr>\n",
              "      <th>1</th>\n",
              "      <td>Jessica</td>\n",
              "      <td>155</td>\n",
              "    </tr>\n",
              "    <tr>\n",
              "      <th>3</th>\n",
              "      <td>John</td>\n",
              "      <td>578</td>\n",
              "    </tr>\n",
              "    <tr>\n",
              "      <th>4</th>\n",
              "      <td>Mel</td>\n",
              "      <td>973</td>\n",
              "    </tr>\n",
              "  </tbody>\n",
              "</table>\n",
              "</div>"
            ],
            "text/plain": [
              "     Names  Births\n",
              "0      Bob     968\n",
              "1  Jessica     155\n",
              "3     John     578\n",
              "4      Mel     973"
            ]
          },
          "metadata": {
            "tags": []
          },
          "execution_count": 8
        }
      ]
    },
    {
      "cell_type": "code",
      "metadata": {
        "id": "s8AroraD5kmI",
        "outputId": "68d4ddda-f840-46c8-ed5e-2e71188c4610",
        "colab": {
          "base_uri": "https://localhost:8080/",
          "height": 0
        }
      },
      "source": [
        "df.mean()"
      ],
      "execution_count": 9,
      "outputs": [
        {
          "output_type": "execute_result",
          "data": {
            "text/plain": [
              "Births    550.2\n",
              "dtype: float64"
            ]
          },
          "metadata": {
            "tags": []
          },
          "execution_count": 9
        }
      ]
    },
    {
      "cell_type": "markdown",
      "metadata": {
        "id": "bi3v0x4kDV7_"
      },
      "source": [
        "# 파이썬 넘파이 배열 생성하기"
      ]
    },
    {
      "cell_type": "code",
      "metadata": {
        "id": "szPiojxr51ZK"
      },
      "source": [
        "import numpy as np\n"
      ],
      "execution_count": 12,
      "outputs": []
    },
    {
      "cell_type": "code",
      "metadata": {
        "id": "hyY1N9zZ5-yv",
        "outputId": "4b112b24-b667-4df8-e3b2-e0b1d3c543d9",
        "colab": {
          "base_uri": "https://localhost:8080/",
          "height": 0
        }
      },
      "source": [
        "# 넘파이 배열 생성\n",
        "arr1 = np.arange(15).reshape(3,5)\n",
        "arr1"
      ],
      "execution_count": 14,
      "outputs": [
        {
          "output_type": "execute_result",
          "data": {
            "text/plain": [
              "array([[ 0,  1,  2,  3,  4],\n",
              "       [ 5,  6,  7,  8,  9],\n",
              "       [10, 11, 12, 13, 14]])"
            ]
          },
          "metadata": {
            "tags": []
          },
          "execution_count": 14
        }
      ]
    },
    {
      "cell_type": "code",
      "metadata": {
        "id": "JKaET9GL7LEA",
        "outputId": "b7afdf02-c3bc-42fb-e732-b7f1291b3055",
        "colab": {
          "base_uri": "https://localhost:8080/",
          "height": 0
        }
      },
      "source": [
        "arr1.shape"
      ],
      "execution_count": 15,
      "outputs": [
        {
          "output_type": "execute_result",
          "data": {
            "text/plain": [
              "(3, 5)"
            ]
          },
          "metadata": {
            "tags": []
          },
          "execution_count": 15
        }
      ]
    },
    {
      "cell_type": "code",
      "metadata": {
        "id": "7W6J-Xl87VfT",
        "outputId": "d69d3499-8e5b-4065-ecb2-72ebe2bf307c",
        "colab": {
          "base_uri": "https://localhost:8080/",
          "height": 0
        }
      },
      "source": [
        "arr1.dtype"
      ],
      "execution_count": 16,
      "outputs": [
        {
          "output_type": "execute_result",
          "data": {
            "text/plain": [
              "dtype('int64')"
            ]
          },
          "metadata": {
            "tags": []
          },
          "execution_count": 16
        }
      ]
    },
    {
      "cell_type": "code",
      "metadata": {
        "id": "fSQwh4Cn7ZgT"
      },
      "source": [
        ""
      ],
      "execution_count": null,
      "outputs": []
    },
    {
      "cell_type": "code",
      "metadata": {
        "id": "hgxSbNDS7dbQ",
        "outputId": "f152506b-178a-4169-83e7-2528141498b3",
        "colab": {
          "base_uri": "https://localhost:8080/",
          "height": 0
        }
      },
      "source": [
        "arr3 = np.zeros((3,10))\n",
        "arr3"
      ],
      "execution_count": 18,
      "outputs": [
        {
          "output_type": "execute_result",
          "data": {
            "text/plain": [
              "array([[0., 0., 0., 0., 0., 0., 0., 0., 0., 0.],\n",
              "       [0., 0., 0., 0., 0., 0., 0., 0., 0., 0.],\n",
              "       [0., 0., 0., 0., 0., 0., 0., 0., 0., 0.]])"
            ]
          },
          "metadata": {
            "tags": []
          },
          "execution_count": 18
        }
      ]
    },
    {
      "cell_type": "markdown",
      "metadata": {
        "id": "UJUInRrKDk3h"
      },
      "source": [
        " # 파이썬 넘파이 배열 사칙연산하기"
      ]
    },
    {
      "cell_type": "code",
      "metadata": {
        "id": "xJZytqUs7qkF",
        "outputId": "4711cecf-52e3-4647-e997-0e8ecba67b49",
        "colab": {
          "base_uri": "https://localhost:8080/",
          "height": 0
        }
      },
      "source": [
        "arr4 = np.array([[1,2,3],[4,5,6]], dtype = np.float64)\n",
        "\n",
        "arr5 = np.array([\n",
        "                 [7,9,8],\n",
        "                 [10,11,12]\n",
        "], dtype = np.float64)\n",
        "\n",
        "# 사칙연산 실행\n",
        "\n",
        "print(\"arr4 + arr5 = \")\n",
        "print(arr4 + arr5, \"\\n\")\n",
        "print(\"arr4 - arr5 = \")\n",
        "print(arr4 - arr5, \"\\n\")\n",
        "print(\"arr4 * arr5 = \")\n",
        "print(arr4 * arr5, \"\\n\")\n",
        "print(\"arr4 / arr5 = \")\n",
        "print(arr4 / arr5, \"\\n\")\n"
      ],
      "execution_count": 19,
      "outputs": [
        {
          "output_type": "stream",
          "text": [
            "arr4 + arr5 = \n",
            "[[ 8. 11. 11.]\n",
            " [14. 16. 18.]] \n",
            "\n",
            "arr4 - arr5 = \n",
            "[[-6. -7. -5.]\n",
            " [-6. -6. -6.]] \n",
            "\n",
            "arr4 * arr5 = \n",
            "[[ 7. 18. 24.]\n",
            " [40. 55. 72.]] \n",
            "\n",
            "arr4 / arr5 = \n",
            "[[0.14285714 0.22222222 0.375     ]\n",
            " [0.4        0.45454545 0.5       ]] \n",
            "\n"
          ],
          "name": "stdout"
        }
      ]
    },
    {
      "cell_type": "markdown",
      "metadata": {
        "id": "4w-tl63--0UD"
      },
      "source": [
        "# 막대그래프 출력하기"
      ]
    },
    {
      "cell_type": "code",
      "metadata": {
        "id": "isE5P6C98DzP"
      },
      "source": [
        "%matplotlib inline\n",
        "import matplotlib.pyplot as plt\n",
        "\n"
      ],
      "execution_count": 21,
      "outputs": []
    },
    {
      "cell_type": "code",
      "metadata": {
        "id": "tPCXq8BU-4m_",
        "outputId": "d601a351-86cf-4962-af29-44b48082cb96",
        "colab": {
          "base_uri": "https://localhost:8080/",
          "height": 295
        }
      },
      "source": [
        "y = df['Births']\n",
        "x = df['Names']\n",
        "\n",
        "plt.bar(x, y) #막대그래프 객체 생성\n",
        "plt.xlabel('Names') # x축 제목\n",
        "plt.ylabel('Births') # y축 제목\n",
        "plt.title('Bar plot') # 막대 그래프 제목\n",
        "plt.show() # 그래프 출력\n"
      ],
      "execution_count": 22,
      "outputs": [
        {
          "output_type": "display_data",
          "data": {
            "image/png": "[encoded data removed]",
            "text/plain": [
              "<Figure size 432x288 with 1 Axes>"
            ]
          },
          "metadata": {
            "tags": [],
            "needs_background": "light"
          }
        }
      ]
    },
    {
      "cell_type": "code",
      "metadata": {
        "id": "WOoI_oUa-xcx"
      },
      "source": [
        ""
      ],
      "execution_count": null,
      "outputs": []
    },
    {
      "cell_type": "markdown",
      "metadata": {
        "id": "H-dTRADoAcPO"
      },
      "source": [
        "# 산점도 그래프 출력하기"
      ]
    },
    {
      "cell_type": "code",
      "metadata": {
        "id": "KoAma8ckAfT8",
        "outputId": "aa901d15-4179-4f36-aa56-6d74cd7e1ba0",
        "colab": {
          "base_uri": "https://localhost:8080/",
          "height": 295
        }
      },
      "source": [
        "# 랜덤 추출 시드를 고정\n",
        "np.random.seed(19920613)\n",
        "\n",
        "# 산점도 데이터 생성하기\n",
        "x = np.arange(0.0, 100.0, 5.0)\n",
        "y = (x * 1.5) + np.random.rand(20) * 50\n",
        "\n",
        "# 산점도 데이터 출력하기\n",
        "plt.scatter(x, y, c=\"b\", alpha=0.5, label=\"scatter point\")\n",
        "plt.xlabel(\"x\")\n",
        "plt.ylabel(\"Y\")\n",
        "plt.legend(loc='upper left')\n",
        "plt.title('Scatter Plot')\n",
        "plt.show()\n"
      ],
      "execution_count": 24,
      "outputs": [
        {
          "output_type": "display_data",
          "data": {
            "image/png": "[encoded data removed]",
            "text/plain": [
              "<Figure size 432x288 with 1 Axes>"
            ]
          },
          "metadata": {
            "tags": [],
            "needs_background": "light"
          }
        }
      ]
    },
    {
      "cell_type": "code",
      "metadata": {
        "id": "vsVYXdgR8C4i"
      },
      "source": [
        ""
      ],
      "execution_count": null,
      "outputs": []
    }
  ]
}